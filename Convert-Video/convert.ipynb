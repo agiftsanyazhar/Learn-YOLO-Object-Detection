{
 "cells": [
  {
   "cell_type": "code",
   "execution_count": 1,
   "metadata": {},
   "outputs": [
    {
     "name": "stdout",
     "output_type": "stream",
     "text": [
      "Collecting opencv-python\n",
      "  Using cached opencv_python-4.10.0.84-cp37-abi3-win_amd64.whl.metadata (20 kB)\n",
      "Collecting numpy>=1.21.2 (from opencv-python)\n",
      "  Using cached numpy-2.0.0-cp310-cp310-win_amd64.whl.metadata (60 kB)\n",
      "Using cached opencv_python-4.10.0.84-cp37-abi3-win_amd64.whl (38.8 MB)\n",
      "Using cached numpy-2.0.0-cp310-cp310-win_amd64.whl (16.5 MB)\n",
      "Installing collected packages: numpy, opencv-python\n",
      "Successfully installed numpy-2.0.0 opencv-python-4.10.0.84\n"
     ]
    }
   ],
   "source": [
    "!pip install opencv-python==4.10.0.84"
   ]
  },
  {
   "cell_type": "code",
   "execution_count": 2,
   "metadata": {},
   "outputs": [
    {
     "name": "stdout",
     "output_type": "stream",
     "text": [
      "Package            Version\n",
      "------------------ ------------\n",
      "asttokens          2.4.1\n",
      "certifi            2024.6.2\n",
      "charset-normalizer 3.3.2\n",
      "colorama           0.4.6\n",
      "comm               0.2.2\n",
      "contourpy          1.2.1\n",
      "cvzone             1.6.1\n",
      "cycler             0.12.1\n",
      "debugpy            1.8.2\n",
      "decorator          5.1.1\n",
      "exceptiongroup     1.2.1\n",
      "executing          2.0.1\n",
      "filelock           3.15.4\n",
      "filterpy           1.4.5\n",
      "fonttools          4.53.0\n",
      "fsspec             2024.6.1\n",
      "idna               3.7\n",
      "imageio            2.34.2\n",
      "intel-openmp       2021.4.0\n",
      "ipykernel          6.29.5\n",
      "ipython            8.26.0\n",
      "jedi               0.19.1\n",
      "Jinja2             3.1.4\n",
      "jupyter_client     8.6.2\n",
      "jupyter_core       5.7.2\n",
      "kiwisolver         1.4.5\n",
      "lazy_loader        0.4\n",
      "MarkupSafe         2.1.5\n",
      "matplotlib         3.9.0\n",
      "matplotlib-inline  0.1.7\n",
      "mkl                2021.4.0\n",
      "mpmath             1.3.0\n",
      "nest-asyncio       1.6.0\n",
      "networkx           3.3\n",
      "numpy              1.26.4\n",
      "opencv-python      4.10.0.84\n",
      "packaging          24.1\n",
      "pandas             2.2.2\n",
      "parso              0.8.4\n",
      "pillow             10.4.0\n",
      "pip                24.1.1\n",
      "platformdirs       4.2.2\n",
      "prompt_toolkit     3.0.47\n",
      "psutil             6.0.0\n",
      "pure-eval          0.2.2\n",
      "py-cpuinfo         9.0.0\n",
      "Pygments           2.18.0\n",
      "pyparsing          3.1.2\n",
      "python-dateutil    2.9.0.post0\n",
      "pytz               2024.1\n",
      "pywin32            306\n",
      "PyYAML             6.0.1\n",
      "pyzmq              26.0.3\n",
      "requests           2.32.3\n",
      "scikit-image       0.24.0\n",
      "scipy              1.14.0\n",
      "seaborn            0.13.2\n",
      "setuptools         65.5.0\n",
      "six                1.16.0\n",
      "stack-data         0.6.3\n",
      "sympy              1.12.1\n",
      "tbb                2021.13.0\n",
      "tifffile           2024.6.18\n",
      "torch              2.3.0+cu118\n",
      "torchaudio         2.3.0+cu118\n",
      "torchvision        0.18.0+cu118\n",
      "tornado            6.4.1\n",
      "tqdm               4.66.4\n",
      "traitlets          5.14.3\n",
      "typing_extensions  4.12.2\n",
      "tzdata             2024.1\n",
      "ultralytics        8.2.48\n",
      "ultralytics-thop   2.0.0\n",
      "urllib3            2.2.2\n",
      "wcwidth            0.2.13\n"
     ]
    }
   ],
   "source": [
    "!pip list"
   ]
  },
  {
   "cell_type": "code",
   "execution_count": 3,
   "metadata": {},
   "outputs": [],
   "source": [
    "import cv2"
   ]
  },
  {
   "cell_type": "code",
   "execution_count": 4,
   "metadata": {},
   "outputs": [
    {
     "ename": "KeyboardInterrupt",
     "evalue": "",
     "output_type": "error",
     "traceback": [
      "\u001b[1;31m---------------------------------------------------------------------------\u001b[0m",
      "\u001b[1;31mKeyboardInterrupt\u001b[0m                         Traceback (most recent call last)",
      "\u001b[1;32mf:\\Tutorial\\learn-yolo-object-detection\\Convert-Video\\convert.ipynb Cell 4\u001b[0m line \u001b[0;36m1\n\u001b[0;32m      <a href='vscode-notebook-cell:/f%3A/Tutorial/learn-yolo-object-detection/Convert-Video/convert.ipynb#W3sZmlsZQ%3D%3D?line=8'>9</a>\u001b[0m \u001b[39mif\u001b[39;00m \u001b[39mnot\u001b[39;00m success:\n\u001b[0;32m     <a href='vscode-notebook-cell:/f%3A/Tutorial/learn-yolo-object-detection/Convert-Video/convert.ipynb#W3sZmlsZQ%3D%3D?line=9'>10</a>\u001b[0m     \u001b[39mbreak\u001b[39;00m\n\u001b[1;32m---> <a href='vscode-notebook-cell:/f%3A/Tutorial/learn-yolo-object-detection/Convert-Video/convert.ipynb#W3sZmlsZQ%3D%3D?line=11'>12</a>\u001b[0m cv2\u001b[39m.\u001b[39;49mimwrite(\n\u001b[0;32m     <a href='vscode-notebook-cell:/f%3A/Tutorial/learn-yolo-object-detection/Convert-Video/convert.ipynb#W3sZmlsZQ%3D%3D?line=12'>13</a>\u001b[0m     \u001b[39m\"\u001b[39;49m\u001b[39mbikes_\u001b[39;49m\u001b[39m%d\u001b[39;49;00m\u001b[39m.jpg\u001b[39;49m\u001b[39m\"\u001b[39;49m \u001b[39m%\u001b[39;49m count,\n\u001b[0;32m     <a href='vscode-notebook-cell:/f%3A/Tutorial/learn-yolo-object-detection/Convert-Video/convert.ipynb#W3sZmlsZQ%3D%3D?line=13'>14</a>\u001b[0m     image,\n\u001b[0;32m     <a href='vscode-notebook-cell:/f%3A/Tutorial/learn-yolo-object-detection/Convert-Video/convert.ipynb#W3sZmlsZQ%3D%3D?line=14'>15</a>\u001b[0m )\n\u001b[0;32m     <a href='vscode-notebook-cell:/f%3A/Tutorial/learn-yolo-object-detection/Convert-Video/convert.ipynb#W3sZmlsZQ%3D%3D?line=15'>16</a>\u001b[0m count \u001b[39m+\u001b[39m\u001b[39m=\u001b[39m \u001b[39m1\u001b[39m\n",
      "\u001b[1;31mKeyboardInterrupt\u001b[0m: "
     ]
    }
   ],
   "source": [
    "# Path of Video\n",
    "vidcap = cv2.VideoCapture(\"../Videos/bikes.mp4\")\n",
    "success, image = vidcap.read()\n",
    "\n",
    "count = 0\n",
    "while vidcap.isOpened():\n",
    "    success, image = vidcap.read()\n",
    "\n",
    "    if not success:\n",
    "        break\n",
    "\n",
    "    cv2.imwrite(\n",
    "        \"bikes_%d.jpg\" % count,\n",
    "        image,\n",
    "    )\n",
    "    count += 1"
   ]
  }
 ],
 "metadata": {
  "kernelspec": {
   "display_name": ".venv",
   "language": "python",
   "name": "python3"
  },
  "language_info": {
   "codemirror_mode": {
    "name": "ipython",
    "version": 3
   },
   "file_extension": ".py",
   "mimetype": "text/x-python",
   "name": "python",
   "nbconvert_exporter": "python",
   "pygments_lexer": "ipython3",
   "version": "3.10.11"
  },
  "orig_nbformat": 4
 },
 "nbformat": 4,
 "nbformat_minor": 2
}
